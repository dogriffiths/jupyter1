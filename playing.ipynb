{
 "cells": [
  {
   "cell_type": "code",
   "execution_count": null,
   "id": "5b1fdc24-0937-419c-99e0-1be1817d88ea",
   "metadata": {},
   "outputs": [],
   "source": [
    "Hello"
   ]
  },
  {
   "cell_type": "code",
   "execution_count": 3,
   "id": "1722b126-274d-4edf-8642-79d4948553c7",
   "metadata": {},
   "outputs": [
    {
     "name": "stdout",
     "output_type": "stream",
     "text": [
      "Hi"
     ]
    }
   ],
   "source": [
    "printf(\"Hi\");"
   ]
  },
  {
   "cell_type": "markdown",
   "id": "75dd8a5a-b16c-4cd3-91af-0bdb72f386c7",
   "metadata": {},
   "source": [
    "# Time for a serious business application\n",
    "\n",
    "Hello!\n",
    "\n",
    "<svg viewBox=\"0 0 24 24\" aria-label=\"Verified account\"\n",
    "                            style={{\n",
    "                                fill: 'rgb(29, 161, 242)',\n",
    "                                height: '1.25em'\n",
    "                            }}\n",
    "                            className=\"r-13gxpu9 r-4qtqp9 r-yyyyoo r-1xvli5t r-9cviqr r-dnmrzs r-bnwqim r-1plcrui r-lrvibr\">\n",
    "    <g>\n",
    "        <path\n",
    "            style={{fill: 'rgb(29, 161, 242)'}}\n",
    "            d=\"M22.5 12.5c0-1.58-.875-2.95-2.148-3.6.154-.435.238-.905.238-1.4 0-2.21-1.71-3.998-3.818-3.998-.47 0-.92.084-1.336.25C14.818 2.415 13.51 1.5 12 1.5s-2.816.917-3.437 2.25c-.415-.165-.866-.25-1.336-.25-2.11 0-3.818 1.79-3.818 4 0 .494.083.964.237 1.4-1.272.65-2.147 2.018-2.147 3.6 0 1.495.782 2.798 1.942 3.486-.02.17-.032.34-.032.514 0 2.21 1.708 4 3.818 4 .47 0 .92-.086 1.335-.25.62 1.334 1.926 2.25 3.437 2.25 1.512 0 2.818-.916 3.437-2.25.415.163.865.248 1.336.248 2.11 0 3.818-1.79 3.818-4 0-.174-.012-.344-.033-.513 1.158-.687 1.943-1.99 1.943-3.484zm-6.616-3.334l-4.334 6.5c-.145.217-.382.334-.625.334-.143 0-.288-.04-.416-.126l-.115-.094-2.415-2.415c-.293-.293-.293-.768 0-1.06s.768-.294 1.06 0l1.77 1.767 3.825-5.74c.23-.345.696-.436 1.04-.207.346.23.44.696.21 1.04z\"></path>\n",
    "    </g>\n",
    "</svg>\n",
    "\n",
    "<div style=\"transform: rotateY(-55deg)\">Hello!</div>"
   ]
  },
  {
   "cell_type": "raw",
   "id": "e7ea5d77-a10a-4dd4-a45c-1aca90004348",
   "metadata": {},
   "source": [
    "<div style=\"color: red\">Hello!</div>"
   ]
  },
  {
   "cell_type": "code",
   "execution_count": 2,
   "id": "79048abb-ab17-440b-8763-0682316773ab",
   "metadata": {},
   "outputs": [
    {
     "name": "stdout",
     "output_type": "stream",
     "text": [
      "4 bottles of beer on the wall, 4 bottles of beer.\n",
      "Take one down and pass it around, 3 bottles of beer on the wall.\n",
      "\n",
      "3 bottles of beer on the wall, 3 bottles of beer.\n",
      "Take one down and pass it around, 2 bottles of beer on the wall.\n",
      "\n",
      "2 bottles of beer on the wall, 2 bottles of beer.\n",
      "Take one down and pass it around, 1 bottle of beer on the wall.\n",
      "\n",
      "1 bottle of beer on the wall, 1 bottle of beer.\n",
      "Take one down and pass it around, no more bottles of beer on the wall.\n"
     ]
    }
   ],
   "source": [
    "  short beerNum = 4;\n",
    "  const char* word = \"bottles\";\n",
    "  while (beerNum > 0) {\n",
    "    printf(\"%i %s of beer on the wall, \", beerNum, word);\n",
    "    printf(\"%i %s of beer.\\n\", beerNum, word);\n",
    "    printf(\"Take one down and pass it around, \");\n",
    "    beerNum = beerNum - 1;\n",
    "    if (beerNum == 1) {\n",
    "      word = \"bottle\"; // singular, as in ONE bottle.\n",
    "    }\n",
    "    if (beerNum > 0) {\n",
    "      printf(\"%i %s of beer on the wall.\\n\\n\", beerNum, word);\n",
    "    } else {\n",
    "      printf(\"no more bottles of beer on the wall.\\n\");\n",
    "    }\n",
    "  }\n"
   ]
  },
  {
   "cell_type": "code",
   "execution_count": 9,
   "id": "4e25d847-63e0-4288-9335-e44396be3a47",
   "metadata": {},
   "outputs": [
    {
     "name": "stdout",
     "output_type": "stream",
     "text": [
      "99 bottles of beer on the wall, 99 bottles of beer.\n",
      "Take one down and pass it around, 98 bottles of beer on the wall.\n",
      "\n",
      "98 bottles of beer on the wall, 98 bottles of beer.\n",
      "Take one down and pass it around, 97 bottles of beer on the wall.\n",
      "\n",
      "97 bottles of beer on the wall, 97 bottles of beer.\n",
      "Take one down and pass it around, 96 bottles of beer on the wall.\n",
      "\n",
      "96 bottles of beer on the wall, 96 bottles of beer.\n",
      "Take one down and pass it around, 95 bottles of beer on the wall.\n",
      "\n",
      "95 bottles of beer on the wall, 95 bottles of beer.\n",
      "Take one down and pass it around, 94 bottles of beer on the wall.\n",
      "\n",
      "94 bottles of beer on the wall, 94 bottles of beer.\n",
      "Take one down and pass it around, 93 bottles of beer on the wall.\n",
      "\n",
      "93 bottles of beer on the wall, 93 bottles of beer.\n",
      "Take one down and pass it around, 92 bottles of beer on the wall.\n",
      "\n",
      "92 bottles of beer on the wall, 92 bottles of beer.\n",
      "Take one down and pass it around, 91 bottles of beer on the wall.\n",
      "\n",
      "91 bottles of beer on the wall, 91 bottles of beer.\n",
      "Take one down and pass it around, 90 bottles of beer on the wall.\n",
      "\n",
      "90 bottles of beer on the wall, 90 bottles of beer.\n",
      "Take one down and pass it around, 89 bottles of beer on the wall.\n",
      "\n",
      "89 bottles of beer on the wall, 89 bottles of beer.\n",
      "Take one down and pass it around, 88 bottles of beer on the wall.\n",
      "\n",
      "88 bottles of beer on the wall, 88 bottles of beer.\n",
      "Take one down and pass it around, 87 bottles of beer on the wall.\n",
      "\n",
      "87 bottles of beer on the wall, 87 bottles of beer.\n",
      "Take one down and pass it around, 86 bottles of beer on the wall.\n",
      "\n",
      "86 bottles of beer on the wall, 86 bottles of beer.\n",
      "Take one down and pass it around, 85 bottles of beer on the wall.\n",
      "\n",
      "85 bottles of beer on the wall, 85 bottles of beer.\n",
      "Take one down and pass it around, 84 bottles of beer on the wall.\n",
      "\n",
      "84 bottles of beer on the wall, 84 bottles of beer.\n",
      "Take one down and pass it around, 83 bottles of beer on the wall.\n",
      "\n",
      "83 bottles of beer on the wall, 83 bottles of beer.\n",
      "Take one down and pass it around, 82 bottles of beer on the wall.\n",
      "\n",
      "82 bottles of beer on the wall, 82 bottles of beer.\n",
      "Take one down and pass it around, 81 bottles of beer on the wall.\n",
      "\n",
      "81 bottles of beer on the wall, 81 bottles of beer.\n",
      "Take one down and pass it around, 80 bottles of beer on the wall.\n",
      "\n",
      "80 bottles of beer on the wall, 80 bottles of beer.\n",
      "Take one down and pass it around, 79 bottles of beer on the wall.\n",
      "\n",
      "79 bottles of beer on the wall, 79 bottles of beer.\n",
      "Take one down and pass it around, 78 bottles of beer on the wall.\n",
      "\n",
      "78 bottles of beer on the wall, 78 bottles of beer.\n",
      "Take one down and pass it around, 77 bottles of beer on the wall.\n",
      "\n",
      "77 bottles of beer on the wall, 77 bottles of beer.\n",
      "Take one down and pass it around, 76 bottles of beer on the wall.\n",
      "\n",
      "76 bottles of beer on the wall, 76 bottles of beer.\n",
      "Take one down and pass it around, 75 bottles of beer on the wall.\n",
      "\n",
      "75 bottles of beer on the wall, 75 bottles of beer.\n",
      "Take one down and pass it around, 74 bottles of beer on the wall.\n",
      "\n",
      "74 bottles of beer on the wall, 74 bottles of beer.\n",
      "Take one down and pass it around, 73 bottles of beer on the wall.\n",
      "\n",
      "73 bottles of beer on the wall, 73 bottles of beer.\n",
      "Take one down and pass it around, 72 bottles of beer on the wall.\n",
      "\n",
      "72 bottles of beer on the wall, 72 bottles of beer.\n",
      "Take one down and pass it around, 71 bottles of beer on the wall.\n",
      "\n",
      "71 bottles of beer on the wall, 71 bottles of beer.\n",
      "Take one down and pass it around, 70 bottles of beer on the wall.\n",
      "\n",
      "70 bottles of beer on the wall, 70 bottles of beer.\n",
      "Take one down and pass it around, 69 bottles of beer on the wall.\n",
      "\n",
      "69 bottles of beer on the wall, 69 bottles of beer.\n",
      "Take one down and pass it around, 68 bottles of beer on the wall.\n",
      "\n",
      "68 bottles of beer on the wall, 68 bottles of beer.\n",
      "Take one down and pass it around, 67 bottles of beer on the wall.\n",
      "\n",
      "67 bottles of beer on the wall, 67 bottles of beer.\n",
      "Take one down and pass it around, 66 bottles of beer on the wall.\n",
      "\n",
      "66 bottles of beer on the wall, 66 bottles of beer.\n",
      "Take one down and pass it around, 65 bottles of beer on the wall.\n",
      "\n",
      "65 bottles of beer on the wall, 65 bottles of beer.\n",
      "Take one down and pass it around, 64 bottles of beer on the wall.\n",
      "\n",
      "64 bottles of beer on the wall, 64 bottles of beer.\n",
      "Take one down and pass it around, 63 bottles of beer on the wall.\n",
      "\n",
      "63 bottles of beer on the wall, 63 bottles of beer.\n",
      "Take one down and pass it around, 62 bottles of beer on the wall.\n",
      "\n",
      "62 bottles of beer on the wall, 62 bottles of beer.\n",
      "Take one down and pass it around, 61 bottles of beer on the wall.\n",
      "\n",
      "61 bottles of beer on the wall, 61 bottles of beer.\n",
      "Take one down and pass it around, 60 bottles of beer on the wall.\n",
      "\n",
      "60 bottles of beer on the wall, 60 bottles of beer.\n",
      "Take one down and pass it around, 59 bottles of beer on the wall.\n",
      "\n",
      "59 bottles of beer on the wall, 59 bottles of beer.\n",
      "Take one down and pass it around, 58 bottles of beer on the wall.\n",
      "\n",
      "58 bottles of beer on the wall, 58 bottles of beer.\n",
      "Take one down and pass it around, 57 bottles of beer on the wall.\n",
      "\n",
      "57 bottles of beer on the wall, 57 bottles of beer.\n",
      "Take one down and pass it around, 56 bottles of beer on the wall.\n",
      "\n",
      "56 bottles of beer on the wall, 56 bottles of beer.\n",
      "Take one down and pass it around, 55 bottles of beer on the wall.\n",
      "\n",
      "55 bottles of beer on the wall, 55 bottles of beer.\n",
      "Take one down and pass it around, 54 bottles of beer on the wall.\n",
      "\n",
      "54 bottles of beer on the wall, 54 bottles of beer.\n",
      "Take one down and pass it around, 53 bottles of beer on the wall.\n",
      "\n",
      "53 bottles of beer on the wall, 53 bottles of beer.\n",
      "Take one down and pass it around, 52 bottles of beer on the wall.\n",
      "\n",
      "52 bottles of beer on the wall, 52 bottles of beer.\n",
      "Take one down and pass it around, 51 bottles of beer on the wall.\n",
      "\n",
      "51 bottles of beer on the wall, 51 bottles of beer.\n",
      "Take one down and pass it around, 50 bottles of beer on the wall.\n",
      "\n",
      "50 bottles of beer on the wall, 50 bottles of beer.\n",
      "Take one down and pass it around, 49 bottles of beer on the wall.\n",
      "\n",
      "49 bottles of beer on the wall, 49 bottles of beer.\n",
      "Take one down and pass it around, 48 bottles of beer on the wall.\n",
      "\n",
      "48 bottles of beer on the wall, 48 bottles of beer.\n",
      "Take one down and pass it around, 47 bottles of beer on the wall.\n",
      "\n",
      "47 bottles of beer on the wall, 47 bottles of beer.\n",
      "Take one down and pass it around, 46 bottles of beer on the wall.\n",
      "\n",
      "46 bottles of beer on the wall, 46 bottles of beer.\n",
      "Take one down and pass it around, 45 bottles of beer on the wall.\n",
      "\n",
      "45 bottles of beer on the wall, 45 bottles of beer.\n",
      "Take one down and pass it around, 44 bottles of beer on the wall.\n",
      "\n",
      "44 bottles of beer on the wall, 44 bottles of beer.\n",
      "Take one down and pass it around, 43 bottles of beer on the wall.\n",
      "\n",
      "43 bottles of beer on the wall, 43 bottles of beer.\n",
      "Take one down and pass it around, 42 bottles of beer on the wall.\n",
      "\n",
      "42 bottles of beer on the wall, 42 bottles of beer.\n",
      "Take one down and pass it around, 41 bottles of beer on the wall.\n",
      "\n",
      "41 bottles of beer on the wall, 41 bottles of beer.\n",
      "Take one down and pass it around, 40 bottles of beer on the wall.\n",
      "\n",
      "40 bottles of beer on the wall, 40 bottles of beer.\n",
      "Take one down and pass it around, 39 bottles of beer on the wall.\n",
      "\n",
      "39 bottles of beer on the wall, 39 bottles of beer.\n",
      "Take one down and pass it around, 38 bottles of beer on the wall.\n",
      "\n",
      "38 bottles of beer on the wall, 38 bottles of beer.\n",
      "Take one down and pass it around, 37 bottles of beer on the wall.\n",
      "\n",
      "37 bottles of beer on the wall, 37 bottles of beer.\n",
      "Take one down and pass it around, 36 bottles of beer on the wall.\n",
      "\n",
      "36 bottles of beer on the wall, 36 bottles of beer.\n",
      "Take one down and pass it around, 35 bottles of beer on the wall.\n",
      "\n",
      "35 bottles of beer on the wall, 35 bottles of beer.\n",
      "Take one down and pass it around, 34 bottles of beer on the wall.\n",
      "\n",
      "34 bottles of beer on the wall, 34 bottles of beer.\n",
      "Take one down and pass it around, 33 bottles of beer on the wall.\n",
      "\n",
      "33 bottles of beer on the wall, 33 bottles of beer.\n",
      "Take one down and pass it around, 32 bottles of beer on the wall.\n",
      "\n",
      "32 bottles of beer on the wall, 32 bottles of beer.\n",
      "Take one down and pass it around, 31 bottles of beer on the wall.\n",
      "\n",
      "31 bottles of beer on the wall, 31 bottles of beer.\n",
      "Take one down and pass it around, 30 bottles of beer on the wall.\n",
      "\n",
      "30 bottles of beer on the wall, 30 bottles of beer.\n",
      "Take one down and pass it around, 29 bottles of beer on the wall.\n",
      "\n",
      "29 bottles of beer on the wall, 29 bottles of beer.\n",
      "Take one down and pass it around, 28 bottles of beer on the wall.\n",
      "\n",
      "28 bottles of beer on the wall, 28 bottles of beer.\n",
      "Take one down and pass it around, 27 bottles of beer on the wall.\n",
      "\n",
      "27 bottles of beer on the wall, 27 bottles of beer.\n",
      "Take one down and pass it around, 26 bottles of beer on the wall.\n",
      "\n",
      "26 bottles of beer on the wall, 26 bottles of beer.\n",
      "Take one down and pass it around, 25 bottles of beer on the wall.\n",
      "\n",
      "25 bottles of beer on the wall, 25 bottles of beer.\n",
      "Take one down and pass it around, 24 bottles of beer on the wall.\n",
      "\n",
      "24 bottles of beer on the wall, 24 bottles of beer.\n",
      "Take one down and pass it around, 23 bottles of beer on the wall.\n",
      "\n",
      "23 bottles of beer on the wall, 23 bottles of beer.\n",
      "Take one down and pass it around, 22 bottles of beer on the wall.\n",
      "\n",
      "22 bottles of beer on the wall, 22 bottles of beer.\n",
      "Take one down and pass it around, 21 bottles of beer on the wall.\n",
      "\n",
      "21 bottles of beer on the wall, 21 bottles of beer.\n",
      "Take one down and pass it around, 20 bottles of beer on the wall.\n",
      "\n",
      "20 bottles of beer on the wall, 20 bottles of beer.\n",
      "Take one down and pass it around, 19 bottles of beer on the wall.\n",
      "\n",
      "19 bottles of beer on the wall, 19 bottles of beer.\n",
      "Take one down and pass it around, 18 bottles of beer on the wall.\n",
      "\n",
      "18 bottles of beer on the wall, 18 bottles of beer.\n",
      "Take one down and pass it around, 17 bottles of beer on the wall.\n",
      "\n",
      "17 bottles of beer on the wall, 17 bottles of beer.\n",
      "Take one down and pass it around, 16 bottles of beer on the wall.\n",
      "\n",
      "16 bottles of beer on the wall, 16 bottles of beer.\n",
      "Take one down and pass it around, 15 bottles of beer on the wall.\n",
      "\n",
      "15 bottles of beer on the wall, 15 bottles of beer.\n",
      "Take one down and pass it around, 14 bottles of beer on the wall.\n",
      "\n",
      "14 bottles of beer on the wall, 14 bottles of beer.\n",
      "Take one down and pass it around, 13 bottles of beer on the wall.\n",
      "\n",
      "13 bottles of beer on the wall, 13 bottles of beer.\n",
      "Take one down and pass it around, 12 bottles of beer on the wall.\n",
      "\n",
      "12 bottles of beer on the wall, 12 bottles of beer.\n",
      "Take one down and pass it around, 11 bottles of beer on the wall.\n",
      "\n",
      "11 bottles of beer on the wall, 11 bottles of beer.\n",
      "Take one down and pass it around, 10 bottles of beer on the wall.\n",
      "\n",
      "10 bottles of beer on the wall, 10 bottles of beer.\n",
      "Take one down and pass it around, 9 bottles of beer on the wall.\n",
      "\n",
      "9 bottles of beer on the wall, 9 bottles of beer.\n",
      "Take one down and pass it around, 8 bottles of beer on the wall.\n",
      "\n",
      "8 bottles of beer on the wall, 8 bottles of beer.\n",
      "Take one down and pass it around, 7 bottles of beer on the wall.\n",
      "\n",
      "7 bottles of beer on the wall, 7 bottles of beer.\n",
      "Take one down and pass it around, 6 bottles of beer on the wall.\n",
      "\n",
      "6 bottles of beer on the wall, 6 bottles of beer.\n",
      "Take one down and pass it around, 5 bottles of beer on the wall.\n",
      "\n",
      "5 bottles of beer on the wall, 5 bottles of beer.\n",
      "Take one down and pass it around, 4 bottles of beer on the wall.\n",
      "\n",
      "4 bottles of beer on the wall, 4 bottles of beer.\n",
      "Take one down and pass it around, 3 bottles of beer on the wall.\n",
      "\n",
      "3 bottles of beer on the wall, 3 bottles of beer.\n",
      "Take one down and pass it around, 2 bottles of beer on the wall.\n",
      "\n",
      "2 bottles of beer on the wall, 2 bottles of beer.\n",
      "Take one down and pass it around, 1 bottle of beer on the wall.\n",
      "\n",
      "1 bottle of beer on the wall, 1 bottle of beer.\n",
      "Take one down and pass it around, no more bottles of beer on the wall.\n"
     ]
    }
   ],
   "source": [
    "  int beerNum = 99;\n",
    "  const char* word = \"bottles\";\n",
    "  while (beerNum > 0) {\n",
    "    printf(\"%i %s of beer on the wall, \", beerNum, word);\n",
    "    printf(\"%i %s of beer.\\n\", beerNum, word);\n",
    "    printf(\"Take one down and pass it around, \");\n",
    "    beerNum = beerNum - 1;\n",
    "    if (beerNum == 1) {\n",
    "      word = \"bottle\"; // singular, as in ONE bottle.\n",
    "    }\n",
    "    if (beerNum > 0) {\n",
    "      printf(\"%i %s of beer on the wall.\\n\\n\", beerNum, word);\n",
    "    } else {\n",
    "      printf(\"no more bottles of beer on the wall.\\n\");\n",
    "    }\n",
    "  }\n",
    "\n"
   ]
  },
  {
   "cell_type": "code",
   "execution_count": 19,
   "id": "3a8397a7-d07e-4898-a8c1-99a00f06271e",
   "metadata": {},
   "outputs": [
    {
     "name": "stdout",
     "output_type": "stream",
     "text": [
      "Dollar\tDipCoin\n",
      "0\t0\n",
      "1\t12\n",
      "2\t24\n",
      "3\t36\n",
      "4\t48\n",
      "5\t60\n",
      "6\t72\n",
      "7\t84\n",
      "8\t96\n",
      "9\t108\n"
     ]
    }
   ],
   "source": [
    "int i = 0;\n",
    "printf(\"Dollar\\tDipCoin\\n\");\n",
    "for (i = 0; i < 10; i++) {\n",
    "    printf(\"%i\\t%i\\n\", i, i * 12);\n",
    "}"
   ]
  },
  {
   "cell_type": "code",
   "execution_count": 18,
   "id": "a41af414-3267-4103-86aa-4fe625b516bd",
   "metadata": {},
   "outputs": [
    {
     "name": "stdout",
     "output_type": "stream",
     "text": [
      "Dollar\tDipCoin\n",
      "1\t0\n",
      "2\t0\n",
      "3\t0\n",
      "4\t0\n",
      "5\t0\n",
      "6\t0\n",
      "7\t0\n",
      "8\t0\n",
      "9\t0\n",
      "10\t1\n"
     ]
    }
   ],
   "source": [
    "int i = 0;\n",
    "printf(\"Dollar\\tDipCoin\\n\");\n",
    "for (i = 1; i <= 10; i++) {\n",
    "    printf(\"%i\\t%i\\n\", i, i / 12);\n",
    "}"
   ]
  },
  {
   "cell_type": "code",
   "execution_count": 25,
   "id": "0e6dc330-5598-4308-8e84-c01fcc250a9f",
   "metadata": {},
   "outputs": [
    {
     "name": "stdout",
     "output_type": "stream",
     "text": [
      "Dollar\tDipCoin\n",
      "1.00\t0.08\n",
      "2.00\t0.17\n",
      "3.00\t0.25\n",
      "4.00\t0.33\n",
      "5.00\t0.42\n",
      "6.00\t0.50\n",
      "7.00\t0.58\n",
      "8.00\t0.67\n",
      "9.00\t0.75\n",
      "10.00\t0.83\n"
     ]
    }
   ],
   "source": [
    "int i = 0;\n",
    "printf(\"Dollar\\tDipCoin\\n\");\n",
    "for (i = 1; i <= 10; i++) {\n",
    "    printf(\"%.2f\\t%.2f\\n\", (float)i, i / 12.0);\n",
    "}"
   ]
  },
  {
   "cell_type": "code",
   "execution_count": 28,
   "id": "65aabe0d-9bb3-4524-88aa-9841e132a416",
   "metadata": {},
   "outputs": [
    {
     "name": "stdout",
     "output_type": "stream",
     "text": [
      "Dollar\tDipCoin\n",
      "1.00\t0.08\n",
      "2.00\t0.17\n",
      "3.00\t0.25\n",
      "4.00\t0.33\n",
      "5.00\t0.42\n",
      "6.00\t0.50\n",
      "7.00\t0.58\n",
      "8.00\t0.67\n",
      "9.00\t0.75\n",
      "10.00\t0.83\n"
     ]
    }
   ],
   "source": [
    "float i = 0;\n",
    "printf(\"Dollar\\tDipCoin\\n\");\n",
    "for (i = 1; i <= 10; i++) {\n",
    "    printf(\"%.2f\\t%.2f\\n\", i, i / 12.0f);\n",
    "}"
   ]
  },
  {
   "cell_type": "code",
   "execution_count": 29,
   "id": "936562a6-8402-46c5-87eb-9c111f861d10",
   "metadata": {},
   "outputs": [
    {
     "name": "stdout",
     "output_type": "stream",
     "text": [
      "Dollar\tDipCoin\n",
      "1.00\t0.08\n",
      "2.00\t0.17\n",
      "3.00\t0.25\n",
      "4.00\t0.33\n",
      "5.00\t0.42\n",
      "6.00\t0.50\n",
      "7.00\t0.58\n",
      "8.00\t0.67\n",
      "9.00\t0.75\n",
      "10.00\t0.83\n"
     ]
    }
   ],
   "source": [
    "printf(\"Dollar\\tDipCoin\\n\");\n",
    "for (float i = 1; i <= 10; i++) {\n",
    "    printf(\"%.2f\\t%.2f\\n\", i, i / 12.0f);\n",
    "}"
   ]
  },
  {
   "cell_type": "code",
   "execution_count": 30,
   "id": "2b4d76e6-d739-46a1-88f0-446da0eea9ff",
   "metadata": {},
   "outputs": [
    {
     "name": "stdout",
     "output_type": "stream",
     "text": [
      "Dollar\tDipCoin\n",
      "1.00\t0.08 ADDRESS: 140730408964820\n",
      "2.00\t0.17 ADDRESS: 140730408964820\n",
      "3.00\t0.25 ADDRESS: 140730408964820\n",
      "4.00\t0.33 ADDRESS: 140730408964820\n",
      "5.00\t0.42 ADDRESS: 140730408964820\n",
      "6.00\t0.50 ADDRESS: 140730408964820\n",
      "7.00\t0.58 ADDRESS: 140730408964820\n",
      "8.00\t0.67 ADDRESS: 140730408964820\n",
      "9.00\t0.75 ADDRESS: 140730408964820\n",
      "10.00\t0.83 ADDRESS: 140730408964820\n"
     ]
    }
   ],
   "source": [
    "printf(\"Dollar\\tDipCoin\\n\");\n",
    "for (float i = 1; i <= 10; i++) {\n",
    "    printf(\"%.2f\\t%.2f ADDRESS: %ld\\n\", i, i / 12.0f, (long)&i);\n",
    "}"
   ]
  },
  {
   "cell_type": "code",
   "execution_count": 44,
   "id": "da002cc2-ccb6-4b86-bd4a-25e30e786cde",
   "metadata": {},
   "outputs": [
    {
     "name": "stdout",
     "output_type": "stream",
     "text": [
      "Dollar\tDipCoin\n",
      "1.00\t0.08 ADDRESS: 140088608358736\n",
      "2.00\t0.17 ADDRESS: 140088608358736\n",
      "3.00\t0.25 ADDRESS: 140088608358736\n",
      "4.00\t0.33 ADDRESS: 140088608358736\n",
      "5.00\t0.42 ADDRESS: 140088608358736\n",
      "6.00\t0.50 ADDRESS: 140088608358736\n",
      "7.00\t0.58 ADDRESS: 140088608358736\n",
      "8.00\t0.67 ADDRESS: 140088608358736\n",
      "9.00\t0.75 ADDRESS: 140088608358736\n",
      "10.00\t0.83 ADDRESS: 140088608358736\n",
      "ADDRESS x: 140088608358728 SIZE: 4\n",
      "ADDRESS y: 140088608358732\n",
      "ADDRESS i: 140088608358736\n",
      "ADDRESS x: 140730408964732 SIZE: 4\n",
      "BYTE 0: 1\n",
      "BYTE 1: 0\n",
      "BYTE 2: 0\n",
      "BYTE 3: 0\n"
     ]
    }
   ],
   "source": [
    "void showMemory(int x) {\n",
    "    printf(\"ADDRESS x: %ld SIZE: %lu\\n\", (long)&x, sizeof x);\n",
    "    long n = (long)&x;\n",
    "    printf(\"BYTE 0: %hhx\\n\", *((unsigned char *)n));\n",
    "    printf(\"BYTE 1: %hhx\\n\", *((unsigned char *)n + 1));\n",
    "    printf(\"BYTE 2: %hhx\\n\", *((unsigned char *)n + 2));\n",
    "    printf(\"BYTE 3: %hhx\\n\", *((unsigned char *)n + 3));\n",
    "}\n",
    "\n",
    "printf(\"Dollar\\tDipCoin\\n\");\n",
    "int x = 1; \n",
    "int y = 1;\n",
    "float i = 2;\n",
    "for (i = 1; i <= 10; i++) {\n",
    "    printf(\"%.2f\\t%.2f ADDRESS: %ld\\n\", i, i / 12.0f, (long)&i);\n",
    "}\n",
    "printf(\"ADDRESS x: %ld SIZE: %lu\\n\", (long)&x, sizeof x);\n",
    "printf(\"ADDRESS y: %ld\\n\", (long)&y);\n",
    "printf(\"ADDRESS i: %ld\\n\", (long)&i);\n",
    "showMemory(x);"
   ]
  },
  {
   "cell_type": "code",
   "execution_count": 46,
   "id": "cb00b0a4-a0a4-4015-8c59-97545e43d45e",
   "metadata": {},
   "outputs": [
    {
     "name": "stderr",
     "output_type": "stream",
     "text": [
      "input_line_54:4:6: warning: multiple unsequenced modifications to 'i' [-Wunsequenced]\n",
      "i = i++;\n",
      "  ~  ^\n"
     ]
    },
    {
     "name": "stdout",
     "output_type": "stream",
     "text": [
      "Before i = 4Before i = 4"
     ]
    }
   ],
   "source": [
    "int i = 4;\n",
    "printf(\"Before i = %i\", i);\n",
    "i = i++;\n",
    "printf(\"Before i = %i\", i);\n"
   ]
  },
  {
   "cell_type": "code",
   "execution_count": 17,
   "id": "36662949-9f34-49a1-a875-9db52f733894",
   "metadata": {},
   "outputs": [
    {
     "name": "stdout",
     "output_type": "stream",
     "text": [
      "electricmango.com is a new startup with ground-breaking thought-led machine-learning technology\n"
     ]
    }
   ],
   "source": [
    "srand(time(NULL));\n",
    "\n",
    "char wordListOne[6][15] = {\"cosmic\", \"electric\", \"digital\",\n",
    "                           \"manic\", \"tribal\", \"unreal\"};\n",
    "char wordListTwo[4][15] = {\"mango\", \"pizza\", \"lemon\", \"rhythm\"};\n",
    "char wordListThree[4][15] = {\"disruptive\", \"synergized\",\n",
    "                             \"thought-led\", \"genetic\"};\n",
    "char wordListFour[5][17] = {\"block-chain\", \"machine-learning\",\n",
    "                            \"data-science\", \"crowd-sourcing\",\n",
    "                            \"nano\"};\n",
    "\n",
    "size_t rand1 = (size_t) (rand() % 6);\n",
    "size_t rand2 = (size_t) (rand() % 4);\n",
    "size_t rand3 = (size_t) (rand() % 4);\n",
    "size_t rand4 = (size_t) (rand() % 5);\n",
    "\n",
    "char description[50];\n",
    "\n",
    "char domain_name[50];\n",
    "strcpy(domain_name, wordListOne[rand1]);\n",
    "strcat(domain_name, wordListTwo[rand2]);\n",
    "strcat(domain_name, \".com\");\n",
    "\n",
    "sprintf(description, \"%s %s\", wordListThree[rand3], wordListFour[rand4]);\n",
    "\n",
    "printf(\"%s is a new startup with ground-breaking %s technology\\n\", domain_name, description);\n"
   ]
  },
  {
   "cell_type": "code",
   "execution_count": 1,
   "id": "fb872354-5451-4d88-b303-0747fb1c2477",
   "metadata": {},
   "outputs": [
    {
     "name": "stdout",
     "output_type": "stream",
     "text": [
      "Hello Raksha!\n"
     ]
    }
   ],
   "source": [
    "char name[50] = \"Raksha\\n\";\n",
    "\n",
    "strtok(name, \"\\n\");\n",
    "\n",
    "printf(\"Hello %s!\\n\", name);\n"
   ]
  },
  {
   "cell_type": "markdown",
   "id": "de51088d-6860-42a4-a12d-608aa3e7aed3",
   "metadata": {},
   "source": [
    "This is a function which converts an integer into an alphanumeric character. For example:"
   ]
  },
  {
   "cell_type": "code",
   "execution_count": 2,
   "id": "3582a938-4fba-42a7-b92b-fb30e25eee59",
   "metadata": {},
   "outputs": [],
   "source": [
    "char number_or_char(int x) {\n",
    "    int y = (abs(x) % 62) + 48;\n",
    "    if (y > 90 || ((y > 57) && (y < 65)))\n",
    "        y += 7;\n",
    "    return (char) y;\n",
    "}"
   ]
  },
  {
   "cell_type": "markdown",
   "id": "4b86c7f5-ceec-4c4b-a25e-0842706a8b96",
   "metadata": {},
   "source": [
    "For example, the number 99 is converted to the character 'U'."
   ]
  },
  {
   "cell_type": "code",
   "execution_count": 38,
   "id": "0bd29724-06ae-4d2e-92f3-7506c89859e1",
   "metadata": {},
   "outputs": [
    {
     "name": "stdout",
     "output_type": "stream",
     "text": [
      "Character is U\n"
     ]
    }
   ],
   "source": [
    "char c = number_or_char(99);\n",
    "printf(\"Character is %c\\n\", c);"
   ]
  },
  {
   "cell_type": "code",
   "execution_count": null,
   "id": "e4efc89b-49ea-4c90-aa76-335227e46970",
   "metadata": {},
   "outputs": [],
   "source": [
    "Now, we use this function to create a function that will generate a random password of a random length. "
   ]
  },
  {
   "cell_type": "code",
   "execution_count": 26,
   "id": "139fa6c5-03a1-4562-b732-361bcc313df8",
   "metadata": {},
   "outputs": [],
   "source": [
    "\n",
    "char *generate_password() {\n",
    "    int len = (rand() % 250) + 5;\n",
    "    char *c = (char *) malloc(len * sizeof(char));\n",
    "    if (c == NULL) {\n",
    "        fprintf(stderr, \"Cannot allocate memory!\\n\");\n",
    "        exit(1);\n",
    "    }\n",
    "\n",
    "    int i, r;\n",
    "    for (i = 0; i < len; i++) {\n",
    "        r = rand();\n",
    "        c[i] = number_or_char(r);\n",
    "    }\n",
    "    c[i] = 0;\n",
    "    return c;\n",
    "}"
   ]
  },
  {
   "cell_type": "markdown",
   "id": "8a936915-4b6e-4c73-a355-74728bd21299",
   "metadata": {},
   "source": [
    "You can see here that the `generate_password` function returns a pointer to a newly allocated piece of memory containing the random password. Because the memory has been allocated dynamically on the heap, we need to remember to `free` the memory used by the password when we've done with it."
   ]
  },
  {
   "cell_type": "code",
   "execution_count": 40,
   "id": "7ca8e4c6-68cb-484f-9d61-4e84aeff8c58",
   "metadata": {},
   "outputs": [
    {
     "name": "stdout",
     "output_type": "stream",
     "text": [
      "Password is: pBETo3EG8LlSEtVJoBYrrdtGioQVBSf7e6YXAs1GJlhWkH3cZZYWIVtDPNkc3ShhZJJiII4jGjL4DMhm8JOQ3LdQqQFr60dgK9RkPTYhJ6lWQXOY5tB6IoWFKlAQl0BB7k8XKgKjkGLGnq1spC2D6YXOPo0HoBX07hXPQ3EG\n"
     ]
    }
   ],
   "source": [
    "char *passwd = generate_password();\n",
    "\n",
    "printf(\"Password is: %s\\n\", passwd);\n",
    "\n",
    "free(passwd);"
   ]
  },
  {
   "cell_type": "code",
   "execution_count": null,
   "id": "0036e1bd-5e01-4497-a89b-ba7f720302db",
   "metadata": {},
   "outputs": [],
   "source": []
  }
 ],
 "metadata": {
  "kernelspec": {
   "display_name": "C++14",
   "language": "C++14",
   "name": "xcpp14"
  },
  "language_info": {
   "codemirror_mode": "text/x-c++src",
   "file_extension": ".cpp",
   "mimetype": "text/x-c++src",
   "name": "c++",
   "version": "14"
  }
 },
 "nbformat": 4,
 "nbformat_minor": 5
}
